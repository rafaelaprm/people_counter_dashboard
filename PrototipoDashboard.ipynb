{
 "cells": [
  {
   "cell_type": "markdown",
   "metadata": {},
   "source": [
    "## Protótipo Dashboard \n",
    "Neste protótipo, iremos mostrar quais dados e visualizações estarão presentes no dashboard WEB"
   ]
  },
  {
   "cell_type": "markdown",
   "metadata": {},
   "source": [
    "### Import das bibliotecas"
   ]
  },
  {
   "cell_type": "code",
   "execution_count": 1,
   "metadata": {},
   "outputs": [],
   "source": [
    "import pandas as pd\n",
    "from sqlalchemy import create_engine\n",
    "from sqlalchemy.orm import sessionmaker\n",
    "\n",
    "from models import Cliente, Local, Camera, Contagem"
   ]
  },
  {
   "cell_type": "markdown",
   "metadata": {},
   "source": [
    "### Conexão com o banco"
   ]
  },
  {
   "cell_type": "code",
   "execution_count": 40,
   "metadata": {},
   "outputs": [],
   "source": [
    "DB_CONN_STRING = 'postgres://postgres:@localhost:5432/peoplecounter'\n",
    "\n",
    "engine = create_engine(DB_CONN_STRING, echo=True)"
   ]
  },
  {
   "cell_type": "markdown",
   "metadata": {},
   "source": [
    "### Nosso cliente cadastrado"
   ]
  },
  {
   "cell_type": "code",
   "execution_count": 58,
   "metadata": {},
   "outputs": [
    {
     "name": "stdout",
     "output_type": "stream",
     "text": [
      "2018-10-23 23:47:03,894 INFO sqlalchemy.engine.base.Engine select relname from pg_class c join pg_namespace n on n.oid=c.relnamespace where pg_catalog.pg_table_is_visible(c.oid) and relname=%(name)s\n",
      "2018-10-23 23:47:03,898 INFO sqlalchemy.engine.base.Engine {'name': 'SELECT cliente_id, nome AS nome_cliente FROM clientes'}\n",
      "2018-10-23 23:47:03,901 INFO sqlalchemy.engine.base.Engine SELECT cliente_id, nome AS nome_cliente FROM clientes\n",
      "2018-10-23 23:47:03,901 INFO sqlalchemy.engine.base.Engine {}\n"
     ]
    }
   ],
   "source": [
    "query = \"SELECT cliente_id, nome AS nome_cliente FROM clientes\"\n",
    "cliente = pd.read_sql(query, engine, index_col='cliente_id')"
   ]
  },
  {
   "cell_type": "code",
   "execution_count": 59,
   "metadata": {},
   "outputs": [
    {
     "data": {
      "text/html": [
       "<div>\n",
       "<style scoped>\n",
       "    .dataframe tbody tr th:only-of-type {\n",
       "        vertical-align: middle;\n",
       "    }\n",
       "\n",
       "    .dataframe tbody tr th {\n",
       "        vertical-align: top;\n",
       "    }\n",
       "\n",
       "    .dataframe thead th {\n",
       "        text-align: right;\n",
       "    }\n",
       "</style>\n",
       "<table border=\"1\" class=\"dataframe\">\n",
       "  <thead>\n",
       "    <tr style=\"text-align: right;\">\n",
       "      <th></th>\n",
       "      <th>nome</th>\n",
       "    </tr>\n",
       "    <tr>\n",
       "      <th>cliente_id</th>\n",
       "      <th></th>\n",
       "    </tr>\n",
       "  </thead>\n",
       "  <tbody>\n",
       "    <tr>\n",
       "      <th>1</th>\n",
       "      <td>DB SUPERMERCADOS</td>\n",
       "    </tr>\n",
       "  </tbody>\n",
       "</table>\n",
       "</div>"
      ],
      "text/plain": [
       "                        nome\n",
       "cliente_id                  \n",
       "1           DB SUPERMERCADOS"
      ]
     },
     "execution_count": 59,
     "metadata": {},
     "output_type": "execute_result"
    }
   ],
   "source": [
    "clientes"
   ]
  },
  {
   "cell_type": "markdown",
   "metadata": {},
   "source": [
    "### Estabelecimentos do cliente cadastrados"
   ]
  },
  {
   "cell_type": "code",
   "execution_count": 82,
   "metadata": {},
   "outputs": [
    {
     "name": "stdout",
     "output_type": "stream",
     "text": [
      "2018-10-23 23:59:39,647 INFO sqlalchemy.engine.base.Engine select relname from pg_class c join pg_namespace n on n.oid=c.relnamespace where pg_catalog.pg_table_is_visible(c.oid) and relname=%(name)s\n",
      "2018-10-23 23:59:39,650 INFO sqlalchemy.engine.base.Engine {'name': 'SELECT c.nome AS cliente_nome, l.local_id, l.nome AS local_nome, l.cep, l.endereco, l.cidade, l.estado         FROM locais l         RIGHT JOIN clientes c ON l.cliente_id = c.cliente_id         WHERE l.cliente_id = 1         ORDER BY l.local_id'}\n",
      "2018-10-23 23:59:39,654 INFO sqlalchemy.engine.base.Engine SELECT c.nome AS cliente_nome, l.local_id, l.nome AS local_nome, l.cep, l.endereco, l.cidade, l.estado         FROM locais l         RIGHT JOIN clientes c ON l.cliente_id = c.cliente_id         WHERE l.cliente_id = 1         ORDER BY l.local_id\n",
      "2018-10-23 23:59:39,655 INFO sqlalchemy.engine.base.Engine {}\n"
     ]
    }
   ],
   "source": [
    "query = \"SELECT c.nome AS cliente_nome, l.local_id, l.nome AS local_nome, l.cep, l.endereco, l.cidade, l.estado \\\n",
    "        FROM locais l \\\n",
    "        RIGHT JOIN clientes c ON l.cliente_id = c.cliente_id \\\n",
    "        WHERE l.cliente_id = 1 \\\n",
    "        ORDER BY l.local_id\"\n",
    "locais = pd.read_sql(query, engine, index_col='local_id')"
   ]
  },
  {
   "cell_type": "code",
   "execution_count": 83,
   "metadata": {},
   "outputs": [
    {
     "data": {
      "text/html": [
       "<div>\n",
       "<style scoped>\n",
       "    .dataframe tbody tr th:only-of-type {\n",
       "        vertical-align: middle;\n",
       "    }\n",
       "\n",
       "    .dataframe tbody tr th {\n",
       "        vertical-align: top;\n",
       "    }\n",
       "\n",
       "    .dataframe thead th {\n",
       "        text-align: right;\n",
       "    }\n",
       "</style>\n",
       "<table border=\"1\" class=\"dataframe\">\n",
       "  <thead>\n",
       "    <tr style=\"text-align: right;\">\n",
       "      <th></th>\n",
       "      <th>cliente_nome</th>\n",
       "      <th>local_nome</th>\n",
       "      <th>cep</th>\n",
       "      <th>endereco</th>\n",
       "      <th>cidade</th>\n",
       "      <th>estado</th>\n",
       "    </tr>\n",
       "    <tr>\n",
       "      <th>local_id</th>\n",
       "      <th></th>\n",
       "      <th></th>\n",
       "      <th></th>\n",
       "      <th></th>\n",
       "      <th></th>\n",
       "      <th></th>\n",
       "    </tr>\n",
       "  </thead>\n",
       "  <tbody>\n",
       "    <tr>\n",
       "      <th>1</th>\n",
       "      <td>DB SUPERMERCADOS</td>\n",
       "      <td>DB CIDADE NOVA</td>\n",
       "      <td>69095-000</td>\n",
       "      <td>AV. NOEL NUTELS, 1762 - CIDADE NOVA</td>\n",
       "      <td>MANAUS</td>\n",
       "      <td>AMAZONAS</td>\n",
       "    </tr>\n",
       "    <tr>\n",
       "      <th>2</th>\n",
       "      <td>DB SUPERMERCADOS</td>\n",
       "      <td>DB PARAIBA</td>\n",
       "      <td>69057-021</td>\n",
       "      <td>AV. JORNALISTA HUMBERTO CALDERADO FILHO, 1.128...</td>\n",
       "      <td>MANAUS</td>\n",
       "      <td>AMAZONAS</td>\n",
       "    </tr>\n",
       "  </tbody>\n",
       "</table>\n",
       "</div>"
      ],
      "text/plain": [
       "              cliente_nome      local_nome        cep  \\\n",
       "local_id                                                \n",
       "1         DB SUPERMERCADOS  DB CIDADE NOVA  69095-000   \n",
       "2         DB SUPERMERCADOS      DB PARAIBA  69057-021   \n",
       "\n",
       "                                                   endereco  cidade    estado  \n",
       "local_id                                                                       \n",
       "1                       AV. NOEL NUTELS, 1762 - CIDADE NOVA  MANAUS  AMAZONAS  \n",
       "2         AV. JORNALISTA HUMBERTO CALDERADO FILHO, 1.128...  MANAUS  AMAZONAS  "
      ]
     },
     "execution_count": 83,
     "metadata": {},
     "output_type": "execute_result"
    }
   ],
   "source": [
    "locais"
   ]
  },
  {
   "cell_type": "markdown",
   "metadata": {},
   "source": [
    "### Cameras de cada estabelecimento do cliente cadastradas"
   ]
  },
  {
   "cell_type": "code",
   "execution_count": 84,
   "metadata": {},
   "outputs": [
    {
     "name": "stdout",
     "output_type": "stream",
     "text": [
      "2018-10-23 23:59:42,049 INFO sqlalchemy.engine.base.Engine select relname from pg_class c join pg_namespace n on n.oid=c.relnamespace where pg_catalog.pg_table_is_visible(c.oid) and relname=%(name)s\n",
      "2018-10-23 23:59:42,050 INFO sqlalchemy.engine.base.Engine {'name': 'SELECT cl.nome AS cliente_nome, l.nome AS local_nome, cam.camera_id, cam.nome AS camera_nome         FROM cameras cam         RIGHT JOIN locais l ON  ... (2 characters truncated) ... m.local_id = l.local_id         RIGHT JOIN clientes cl ON l.cliente_id = cl.cliente_id         WHERE cl.cliente_id = 1         ORDER BY cam.camera_id'}\n",
      "2018-10-23 23:59:42,053 INFO sqlalchemy.engine.base.Engine SELECT cl.nome AS cliente_nome, l.nome AS local_nome, cam.camera_id, cam.nome AS camera_nome         FROM cameras cam         RIGHT JOIN locais l ON cam.local_id = l.local_id         RIGHT JOIN clientes cl ON l.cliente_id = cl.cliente_id         WHERE cl.cliente_id = 1         ORDER BY cam.camera_id\n",
      "2018-10-23 23:59:42,054 INFO sqlalchemy.engine.base.Engine {}\n"
     ]
    }
   ],
   "source": [
    "query = \"SELECT cl.nome AS cliente_nome, l.nome AS local_nome, cam.camera_id, cam.nome AS camera_nome \\\n",
    "        FROM cameras cam \\\n",
    "        RIGHT JOIN locais l ON cam.local_id = l.local_id \\\n",
    "        RIGHT JOIN clientes cl ON l.cliente_id = cl.cliente_id \\\n",
    "        WHERE cl.cliente_id = 1 \\\n",
    "        ORDER BY cam.camera_id\"\n",
    "cameras = pd.read_sql(query, engine, index_col='camera_id')"
   ]
  },
  {
   "cell_type": "code",
   "execution_count": 85,
   "metadata": {},
   "outputs": [
    {
     "data": {
      "text/html": [
       "<div>\n",
       "<style scoped>\n",
       "    .dataframe tbody tr th:only-of-type {\n",
       "        vertical-align: middle;\n",
       "    }\n",
       "\n",
       "    .dataframe tbody tr th {\n",
       "        vertical-align: top;\n",
       "    }\n",
       "\n",
       "    .dataframe thead th {\n",
       "        text-align: right;\n",
       "    }\n",
       "</style>\n",
       "<table border=\"1\" class=\"dataframe\">\n",
       "  <thead>\n",
       "    <tr style=\"text-align: right;\">\n",
       "      <th></th>\n",
       "      <th>cliente_nome</th>\n",
       "      <th>local_nome</th>\n",
       "      <th>camera_nome</th>\n",
       "    </tr>\n",
       "    <tr>\n",
       "      <th>camera_id</th>\n",
       "      <th></th>\n",
       "      <th></th>\n",
       "      <th></th>\n",
       "    </tr>\n",
       "  </thead>\n",
       "  <tbody>\n",
       "    <tr>\n",
       "      <th>1</th>\n",
       "      <td>DB SUPERMERCADOS</td>\n",
       "      <td>DB CIDADE NOVA</td>\n",
       "      <td>CAMERA ENTRADA 1</td>\n",
       "    </tr>\n",
       "    <tr>\n",
       "      <th>2</th>\n",
       "      <td>DB SUPERMERCADOS</td>\n",
       "      <td>DB CIDADE NOVA</td>\n",
       "      <td>CAMERA ENTRADA 2</td>\n",
       "    </tr>\n",
       "    <tr>\n",
       "      <th>3</th>\n",
       "      <td>DB SUPERMERCADOS</td>\n",
       "      <td>DB PARAIBA</td>\n",
       "      <td>CAM_ENTRADA_1</td>\n",
       "    </tr>\n",
       "    <tr>\n",
       "      <th>4</th>\n",
       "      <td>DB SUPERMERCADOS</td>\n",
       "      <td>DB PARAIBA</td>\n",
       "      <td>CAM_ENTRADA_2</td>\n",
       "    </tr>\n",
       "  </tbody>\n",
       "</table>\n",
       "</div>"
      ],
      "text/plain": [
       "               cliente_nome      local_nome       camera_nome\n",
       "camera_id                                                    \n",
       "1          DB SUPERMERCADOS  DB CIDADE NOVA  CAMERA ENTRADA 1\n",
       "2          DB SUPERMERCADOS  DB CIDADE NOVA  CAMERA ENTRADA 2\n",
       "3          DB SUPERMERCADOS      DB PARAIBA     CAM_ENTRADA_1\n",
       "4          DB SUPERMERCADOS      DB PARAIBA     CAM_ENTRADA_2"
      ]
     },
     "execution_count": 85,
     "metadata": {},
     "output_type": "execute_result"
    }
   ],
   "source": [
    "cameras"
   ]
  },
  {
   "cell_type": "markdown",
   "metadata": {},
   "source": [
    "### Contagem de pessoas por câmera\n",
    "Considera-se que cada camera cadastrada representa uma entrada diferente para o establecimento.\n",
    "Neste exemplo, veremos os dados de contagem da camera 1 do local 1 do nosso cliente cadastrado."
   ]
  },
  {
   "cell_type": "code",
   "execution_count": 97,
   "metadata": {},
   "outputs": [
    {
     "name": "stdout",
     "output_type": "stream",
     "text": [
      "2018-10-24 00:46:21,723 INFO sqlalchemy.engine.base.Engine select relname from pg_class c join pg_namespace n on n.oid=c.relnamespace where pg_catalog.pg_table_is_visible(c.oid) and relname=%(name)s\n",
      "2018-10-24 00:46:21,725 INFO sqlalchemy.engine.base.Engine {'name': 'SELECT cl.nome AS cliente_nome, l.nome AS local_nome, cam.camera_id,         cam.nome AS camera_nome, cont.contagem_id, cont.timestamp, cont.qtd_pess ... (156 characters truncated) ...        RIGHT JOIN clientes cl ON l.cliente_id = cl.cliente_id         WHERE cl.cliente_id = 1 AND cam.camera_id = 1         ORDER BY cont.contagem_id'}\n",
      "2018-10-24 00:46:21,734 INFO sqlalchemy.engine.base.Engine SELECT cl.nome AS cliente_nome, l.nome AS local_nome, cam.camera_id,         cam.nome AS camera_nome, cont.contagem_id, cont.timestamp, cont.qtd_pessoas_in         FROM contagem cont         RIGHT JOIN cameras cam ON cont.camera_id = cam.camera_id        RIGHT JOIN locais l ON cam.local_id = l.local_id         RIGHT JOIN clientes cl ON l.cliente_id = cl.cliente_id         WHERE cl.cliente_id = 1 AND cam.camera_id = 1         ORDER BY cont.contagem_id\n",
      "2018-10-24 00:46:21,735 INFO sqlalchemy.engine.base.Engine {}\n"
     ]
    }
   ],
   "source": [
    "query = \"SELECT cl.nome AS cliente_nome, l.nome AS local_nome, cam.camera_id, \\\n",
    "        cam.nome AS camera_nome, cont.contagem_id, cont.timestamp, cont.qtd_pessoas_in \\\n",
    "        FROM contagem cont \\\n",
    "        RIGHT JOIN cameras cam ON cont.camera_id = cam.camera_id\\\n",
    "        RIGHT JOIN locais l ON cam.local_id = l.local_id \\\n",
    "        RIGHT JOIN clientes cl ON l.cliente_id = cl.cliente_id \\\n",
    "        WHERE cl.cliente_id = 1 AND cam.camera_id = 1 \\\n",
    "        ORDER BY cont.contagem_id\"\n",
    "contagem = pd.read_sql(query, engine, index_col='contagem_id')"
   ]
  },
  {
   "cell_type": "code",
   "execution_count": 98,
   "metadata": {},
   "outputs": [
    {
     "data": {
      "text/html": [
       "<div>\n",
       "<style scoped>\n",
       "    .dataframe tbody tr th:only-of-type {\n",
       "        vertical-align: middle;\n",
       "    }\n",
       "\n",
       "    .dataframe tbody tr th {\n",
       "        vertical-align: top;\n",
       "    }\n",
       "\n",
       "    .dataframe thead th {\n",
       "        text-align: right;\n",
       "    }\n",
       "</style>\n",
       "<table border=\"1\" class=\"dataframe\">\n",
       "  <thead>\n",
       "    <tr style=\"text-align: right;\">\n",
       "      <th></th>\n",
       "      <th>cliente_nome</th>\n",
       "      <th>local_nome</th>\n",
       "      <th>camera_id</th>\n",
       "      <th>camera_nome</th>\n",
       "      <th>timestamp</th>\n",
       "      <th>qtd_pessoas_in</th>\n",
       "    </tr>\n",
       "    <tr>\n",
       "      <th>contagem_id</th>\n",
       "      <th></th>\n",
       "      <th></th>\n",
       "      <th></th>\n",
       "      <th></th>\n",
       "      <th></th>\n",
       "      <th></th>\n",
       "    </tr>\n",
       "  </thead>\n",
       "  <tbody>\n",
       "    <tr>\n",
       "      <th>1</th>\n",
       "      <td>DB SUPERMERCADOS</td>\n",
       "      <td>DB CIDADE NOVA</td>\n",
       "      <td>1</td>\n",
       "      <td>CAMERA ENTRADA 1</td>\n",
       "      <td>2018-10-24 00:43:03.003574</td>\n",
       "      <td>2</td>\n",
       "    </tr>\n",
       "    <tr>\n",
       "      <th>2</th>\n",
       "      <td>DB SUPERMERCADOS</td>\n",
       "      <td>DB CIDADE NOVA</td>\n",
       "      <td>1</td>\n",
       "      <td>CAMERA ENTRADA 1</td>\n",
       "      <td>2018-10-24 00:43:06.017777</td>\n",
       "      <td>1</td>\n",
       "    </tr>\n",
       "    <tr>\n",
       "      <th>3</th>\n",
       "      <td>DB SUPERMERCADOS</td>\n",
       "      <td>DB CIDADE NOVA</td>\n",
       "      <td>1</td>\n",
       "      <td>CAMERA ENTRADA 1</td>\n",
       "      <td>2018-10-24 00:43:09.007212</td>\n",
       "      <td>4</td>\n",
       "    </tr>\n",
       "    <tr>\n",
       "      <th>4</th>\n",
       "      <td>DB SUPERMERCADOS</td>\n",
       "      <td>DB CIDADE NOVA</td>\n",
       "      <td>1</td>\n",
       "      <td>CAMERA ENTRADA 1</td>\n",
       "      <td>2018-10-24 00:43:12.059917</td>\n",
       "      <td>5</td>\n",
       "    </tr>\n",
       "    <tr>\n",
       "      <th>5</th>\n",
       "      <td>DB SUPERMERCADOS</td>\n",
       "      <td>DB CIDADE NOVA</td>\n",
       "      <td>1</td>\n",
       "      <td>CAMERA ENTRADA 1</td>\n",
       "      <td>2018-10-24 00:43:15.034008</td>\n",
       "      <td>6</td>\n",
       "    </tr>\n",
       "  </tbody>\n",
       "</table>\n",
       "</div>"
      ],
      "text/plain": [
       "                 cliente_nome      local_nome  camera_id       camera_nome  \\\n",
       "contagem_id                                                                  \n",
       "1            DB SUPERMERCADOS  DB CIDADE NOVA          1  CAMERA ENTRADA 1   \n",
       "2            DB SUPERMERCADOS  DB CIDADE NOVA          1  CAMERA ENTRADA 1   \n",
       "3            DB SUPERMERCADOS  DB CIDADE NOVA          1  CAMERA ENTRADA 1   \n",
       "4            DB SUPERMERCADOS  DB CIDADE NOVA          1  CAMERA ENTRADA 1   \n",
       "5            DB SUPERMERCADOS  DB CIDADE NOVA          1  CAMERA ENTRADA 1   \n",
       "\n",
       "                             timestamp  qtd_pessoas_in  \n",
       "contagem_id                                             \n",
       "1           2018-10-24 00:43:03.003574               2  \n",
       "2           2018-10-24 00:43:06.017777               1  \n",
       "3           2018-10-24 00:43:09.007212               4  \n",
       "4           2018-10-24 00:43:12.059917               5  \n",
       "5           2018-10-24 00:43:15.034008               6  "
      ]
     },
     "execution_count": 98,
     "metadata": {},
     "output_type": "execute_result"
    }
   ],
   "source": [
    "contagem.head()"
   ]
  },
  {
   "cell_type": "markdown",
   "metadata": {},
   "source": [
    "### Resumo Estatístico"
   ]
  },
  {
   "cell_type": "code",
   "execution_count": 106,
   "metadata": {},
   "outputs": [
    {
     "data": {
      "text/html": [
       "<div>\n",
       "<style scoped>\n",
       "    .dataframe tbody tr th:only-of-type {\n",
       "        vertical-align: middle;\n",
       "    }\n",
       "\n",
       "    .dataframe tbody tr th {\n",
       "        vertical-align: top;\n",
       "    }\n",
       "\n",
       "    .dataframe thead th {\n",
       "        text-align: right;\n",
       "    }\n",
       "</style>\n",
       "<table border=\"1\" class=\"dataframe\">\n",
       "  <thead>\n",
       "    <tr style=\"text-align: right;\">\n",
       "      <th></th>\n",
       "      <th>qtd_pessoas_in</th>\n",
       "    </tr>\n",
       "  </thead>\n",
       "  <tbody>\n",
       "    <tr>\n",
       "      <th>count</th>\n",
       "      <td>9.000000</td>\n",
       "    </tr>\n",
       "    <tr>\n",
       "      <th>mean</th>\n",
       "      <td>3.000000</td>\n",
       "    </tr>\n",
       "    <tr>\n",
       "      <th>std</th>\n",
       "      <td>1.936492</td>\n",
       "    </tr>\n",
       "    <tr>\n",
       "      <th>min</th>\n",
       "      <td>0.000000</td>\n",
       "    </tr>\n",
       "    <tr>\n",
       "      <th>25%</th>\n",
       "      <td>2.000000</td>\n",
       "    </tr>\n",
       "    <tr>\n",
       "      <th>50%</th>\n",
       "      <td>3.000000</td>\n",
       "    </tr>\n",
       "    <tr>\n",
       "      <th>75%</th>\n",
       "      <td>4.000000</td>\n",
       "    </tr>\n",
       "    <tr>\n",
       "      <th>max</th>\n",
       "      <td>6.000000</td>\n",
       "    </tr>\n",
       "  </tbody>\n",
       "</table>\n",
       "</div>"
      ],
      "text/plain": [
       "       qtd_pessoas_in\n",
       "count        9.000000\n",
       "mean         3.000000\n",
       "std          1.936492\n",
       "min          0.000000\n",
       "25%          2.000000\n",
       "50%          3.000000\n",
       "75%          4.000000\n",
       "max          6.000000"
      ]
     },
     "execution_count": 106,
     "metadata": {},
     "output_type": "execute_result"
    }
   ],
   "source": [
    "resumo = pd.DataFrame(contagem.qtd_pessoas_in.describe())\n",
    "resumo"
   ]
  },
  {
   "cell_type": "code",
   "execution_count": null,
   "metadata": {},
   "outputs": [],
   "source": []
  }
 ],
 "metadata": {
  "kernelspec": {
   "display_name": "Python [default]",
   "language": "python",
   "name": "python3"
  },
  "language_info": {
   "codemirror_mode": {
    "name": "ipython",
    "version": 3
   },
   "file_extension": ".py",
   "mimetype": "text/x-python",
   "name": "python",
   "nbconvert_exporter": "python",
   "pygments_lexer": "ipython3",
   "version": "3.5.5"
  }
 },
 "nbformat": 4,
 "nbformat_minor": 2
}
