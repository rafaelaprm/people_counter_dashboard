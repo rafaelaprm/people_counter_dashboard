{
 "cells": [
  {
   "cell_type": "markdown",
   "metadata": {},
   "source": [
    "## Protótipo Dashboard \n",
    "Neste protótipo, iremos mostrar quais dados e visualizações estarão presentes no dashboard WEB"
   ]
  },
  {
   "cell_type": "markdown",
   "metadata": {},
   "source": [
    "<img src=\"https://i.gifer.com/7l6N.gif\" width=\"400\" height=\"400\">"
   ]
  },
  {
   "cell_type": "markdown",
   "metadata": {},
   "source": [
    "### Import das bibliotecas"
   ]
  },
  {
   "cell_type": "code",
   "execution_count": 1,
   "metadata": {},
   "outputs": [],
   "source": [
    "import pandas as pd\n",
    "import matplotlib.pyplot as plt\n",
    "import seaborn as sns\n",
    "import numpy as np\n",
    "from datetime import date, time, datetime, timedelta\n",
    "from sqlalchemy import create_engine\n",
    "from sqlalchemy.orm import sessionmaker\n",
    "\n",
    "from models import Cliente, Local, Camera, Contagem\n",
    "\n",
    "%matplotlib inline\n",
    "\n",
    "CLIENTE_ID = 1"
   ]
  },
  {
   "cell_type": "markdown",
   "metadata": {},
   "source": [
    "### Conexão com o banco"
   ]
  },
  {
   "cell_type": "code",
   "execution_count": 2,
   "metadata": {},
   "outputs": [],
   "source": [
    "DB_CONN_STRING = 'postgres://postgres:@localhost:5433/peoplecounter'\n",
    "\n",
    "engine = create_engine(DB_CONN_STRING, echo=False)"
   ]
  },
  {
   "cell_type": "markdown",
   "metadata": {},
   "source": [
    "### Nosso cliente cadastrado"
   ]
  },
  {
   "cell_type": "code",
   "execution_count": 6,
   "metadata": {},
   "outputs": [],
   "source": [
    "query = \"SELECT nome AS nome_cliente FROM clientes\"\n",
    "\n",
    "clientes = pd.read_sql(query, engine)"
   ]
  },
  {
   "cell_type": "code",
   "execution_count": 7,
   "metadata": {},
   "outputs": [
    {
     "data": {
      "text/html": [
       "<div>\n",
       "<style scoped>\n",
       "    .dataframe tbody tr th:only-of-type {\n",
       "        vertical-align: middle;\n",
       "    }\n",
       "\n",
       "    .dataframe tbody tr th {\n",
       "        vertical-align: top;\n",
       "    }\n",
       "\n",
       "    .dataframe thead th {\n",
       "        text-align: right;\n",
       "    }\n",
       "</style>\n",
       "<table border=\"1\" class=\"dataframe\">\n",
       "  <thead>\n",
       "    <tr style=\"text-align: right;\">\n",
       "      <th></th>\n",
       "      <th>nome_cliente</th>\n",
       "    </tr>\n",
       "  </thead>\n",
       "  <tbody>\n",
       "    <tr>\n",
       "      <th>0</th>\n",
       "      <td>DB SUPERMERCADOS</td>\n",
       "    </tr>\n",
       "  </tbody>\n",
       "</table>\n",
       "</div>"
      ],
      "text/plain": [
       "       nome_cliente\n",
       "0  DB SUPERMERCADOS"
      ]
     },
     "execution_count": 7,
     "metadata": {},
     "output_type": "execute_result"
    }
   ],
   "source": [
    "clientes"
   ]
  },
  {
   "cell_type": "markdown",
   "metadata": {},
   "source": [
    "### Estabelecimentos do cliente cadastrados"
   ]
  },
  {
   "cell_type": "code",
   "execution_count": 8,
   "metadata": {},
   "outputs": [],
   "source": [
    "query = \"SELECT cl.nome AS cliente_nome, l.nome AS local_nome, l.cep, l.endereco, l.cidade, l.estado \\\n",
    "        FROM locais l \\\n",
    "        RIGHT JOIN clientes cl ON l.cliente_id = cl.cliente_id \\\n",
    "        WHERE l.cliente_id = {0} \\\n",
    "        ORDER BY l.local_id\".format(CLIENTE_ID)\n",
    "\n",
    "locais = pd.read_sql(query, engine)"
   ]
  },
  {
   "cell_type": "code",
   "execution_count": 9,
   "metadata": {},
   "outputs": [
    {
     "data": {
      "text/html": [
       "<div>\n",
       "<style scoped>\n",
       "    .dataframe tbody tr th:only-of-type {\n",
       "        vertical-align: middle;\n",
       "    }\n",
       "\n",
       "    .dataframe tbody tr th {\n",
       "        vertical-align: top;\n",
       "    }\n",
       "\n",
       "    .dataframe thead th {\n",
       "        text-align: right;\n",
       "    }\n",
       "</style>\n",
       "<table border=\"1\" class=\"dataframe\">\n",
       "  <thead>\n",
       "    <tr style=\"text-align: right;\">\n",
       "      <th></th>\n",
       "      <th>cliente_nome</th>\n",
       "      <th>local_nome</th>\n",
       "      <th>cep</th>\n",
       "      <th>endereco</th>\n",
       "      <th>cidade</th>\n",
       "      <th>estado</th>\n",
       "    </tr>\n",
       "  </thead>\n",
       "  <tbody>\n",
       "    <tr>\n",
       "      <th>0</th>\n",
       "      <td>DB SUPERMERCADOS</td>\n",
       "      <td>DB CIDADE NOVA</td>\n",
       "      <td>69095-000</td>\n",
       "      <td>AV. NOEL NUTELS, 1762 - CIDADE NOVA</td>\n",
       "      <td>MANAUS</td>\n",
       "      <td>AMAZONAS</td>\n",
       "    </tr>\n",
       "    <tr>\n",
       "      <th>1</th>\n",
       "      <td>DB SUPERMERCADOS</td>\n",
       "      <td>DB PARAIBA</td>\n",
       "      <td>69057-021</td>\n",
       "      <td>AV. JORNALISTA HUMBERTO CALDERADO FILHO, 1.128...</td>\n",
       "      <td>MANAUS</td>\n",
       "      <td>AMAZONAS</td>\n",
       "    </tr>\n",
       "  </tbody>\n",
       "</table>\n",
       "</div>"
      ],
      "text/plain": [
       "       cliente_nome      local_nome        cep  \\\n",
       "0  DB SUPERMERCADOS  DB CIDADE NOVA  69095-000   \n",
       "1  DB SUPERMERCADOS      DB PARAIBA  69057-021   \n",
       "\n",
       "                                            endereco  cidade    estado  \n",
       "0                AV. NOEL NUTELS, 1762 - CIDADE NOVA  MANAUS  AMAZONAS  \n",
       "1  AV. JORNALISTA HUMBERTO CALDERADO FILHO, 1.128...  MANAUS  AMAZONAS  "
      ]
     },
     "execution_count": 9,
     "metadata": {},
     "output_type": "execute_result"
    }
   ],
   "source": [
    "locais "
   ]
  },
  {
   "cell_type": "markdown",
   "metadata": {},
   "source": [
    "### Cameras de cada estabelecimento do cliente cadastradas"
   ]
  },
  {
   "cell_type": "code",
   "execution_count": 10,
   "metadata": {},
   "outputs": [],
   "source": [
    "query = \"SELECT cl.nome AS cliente_nome, l.nome AS local_nome, cam.nome AS camera_nome \\\n",
    "        FROM cameras cam \\\n",
    "        RIGHT JOIN locais l ON cam.local_id = l.local_id \\\n",
    "        RIGHT JOIN clientes cl ON l.cliente_id = cl.cliente_id \\\n",
    "        WHERE cl.cliente_id = {0} \\\n",
    "        ORDER BY cam.camera_id\".format(CLIENTE_ID)\n",
    "\n",
    "cameras = pd.read_sql(query, engine)"
   ]
  },
  {
   "cell_type": "code",
   "execution_count": 11,
   "metadata": {},
   "outputs": [
    {
     "data": {
      "text/html": [
       "<div>\n",
       "<style scoped>\n",
       "    .dataframe tbody tr th:only-of-type {\n",
       "        vertical-align: middle;\n",
       "    }\n",
       "\n",
       "    .dataframe tbody tr th {\n",
       "        vertical-align: top;\n",
       "    }\n",
       "\n",
       "    .dataframe thead th {\n",
       "        text-align: right;\n",
       "    }\n",
       "</style>\n",
       "<table border=\"1\" class=\"dataframe\">\n",
       "  <thead>\n",
       "    <tr style=\"text-align: right;\">\n",
       "      <th></th>\n",
       "      <th>cliente_nome</th>\n",
       "      <th>local_nome</th>\n",
       "      <th>camera_nome</th>\n",
       "    </tr>\n",
       "  </thead>\n",
       "  <tbody>\n",
       "    <tr>\n",
       "      <th>0</th>\n",
       "      <td>DB SUPERMERCADOS</td>\n",
       "      <td>DB CIDADE NOVA</td>\n",
       "      <td>CAMERA ENTRADA 1</td>\n",
       "    </tr>\n",
       "    <tr>\n",
       "      <th>1</th>\n",
       "      <td>DB SUPERMERCADOS</td>\n",
       "      <td>DB CIDADE NOVA</td>\n",
       "      <td>CAMERA ENTRADA 2</td>\n",
       "    </tr>\n",
       "    <tr>\n",
       "      <th>2</th>\n",
       "      <td>DB SUPERMERCADOS</td>\n",
       "      <td>DB PARAIBA</td>\n",
       "      <td>CAM_ENTRADA_1</td>\n",
       "    </tr>\n",
       "    <tr>\n",
       "      <th>3</th>\n",
       "      <td>DB SUPERMERCADOS</td>\n",
       "      <td>DB PARAIBA</td>\n",
       "      <td>CAM_ENTRADA_2</td>\n",
       "    </tr>\n",
       "  </tbody>\n",
       "</table>\n",
       "</div>"
      ],
      "text/plain": [
       "       cliente_nome      local_nome       camera_nome\n",
       "0  DB SUPERMERCADOS  DB CIDADE NOVA  CAMERA ENTRADA 1\n",
       "1  DB SUPERMERCADOS  DB CIDADE NOVA  CAMERA ENTRADA 2\n",
       "2  DB SUPERMERCADOS      DB PARAIBA     CAM_ENTRADA_1\n",
       "3  DB SUPERMERCADOS      DB PARAIBA     CAM_ENTRADA_2"
      ]
     },
     "execution_count": 11,
     "metadata": {},
     "output_type": "execute_result"
    }
   ],
   "source": [
    "cameras"
   ]
  },
  {
   "cell_type": "markdown",
   "metadata": {},
   "source": [
    "### Simulação de busca de local e camera por local pelo usuário na interface"
   ]
  },
  {
   "cell_type": "markdown",
   "metadata": {},
   "source": [
    "Busca do local (estabelecimento) para o cliente 1 cadastrado "
   ]
  },
  {
   "cell_type": "code",
   "execution_count": 18,
   "metadata": {
    "scrolled": false
   },
   "outputs": [
    {
     "name": "stdout",
     "output_type": "stream",
     "text": [
      "Digite o nome do estabelecimento: ci\n"
     ]
    }
   ],
   "source": [
    "busca_local = input(\"Digite o nome do estabelecimento: \")"
   ]
  },
  {
   "cell_type": "code",
   "execution_count": 19,
   "metadata": {},
   "outputs": [],
   "source": [
    "query = \"SELECT cl.nome AS cliente_nome, l.nome AS local_nome, l.cep, l.endereco, l.cidade, l.estado \\\n",
    "        FROM locais l \\\n",
    "        RIGHT JOIN clientes cl ON l.cliente_id = cl.cliente_id \\\n",
    "        WHERE l.cliente_id = {0} AND l.nome LIKE '%%{1}%%'\".format(CLIENTE_ID, busca_local.upper())\n",
    "\n",
    "local_selecionado = pd.read_sql(query, engine)"
   ]
  },
  {
   "cell_type": "markdown",
   "metadata": {},
   "source": [
    "#### Abstraímos que o usuário selecionou o local que foi resultado da busca"
   ]
  },
  {
   "cell_type": "code",
   "execution_count": 20,
   "metadata": {
    "scrolled": false
   },
   "outputs": [
    {
     "data": {
      "text/html": [
       "<div>\n",
       "<style scoped>\n",
       "    .dataframe tbody tr th:only-of-type {\n",
       "        vertical-align: middle;\n",
       "    }\n",
       "\n",
       "    .dataframe tbody tr th {\n",
       "        vertical-align: top;\n",
       "    }\n",
       "\n",
       "    .dataframe thead th {\n",
       "        text-align: right;\n",
       "    }\n",
       "</style>\n",
       "<table border=\"1\" class=\"dataframe\">\n",
       "  <thead>\n",
       "    <tr style=\"text-align: right;\">\n",
       "      <th></th>\n",
       "      <th>cliente_nome</th>\n",
       "      <th>local_nome</th>\n",
       "      <th>cep</th>\n",
       "      <th>endereco</th>\n",
       "      <th>cidade</th>\n",
       "      <th>estado</th>\n",
       "    </tr>\n",
       "  </thead>\n",
       "  <tbody>\n",
       "    <tr>\n",
       "      <th>0</th>\n",
       "      <td>DB SUPERMERCADOS</td>\n",
       "      <td>DB CIDADE NOVA</td>\n",
       "      <td>69095-000</td>\n",
       "      <td>AV. NOEL NUTELS, 1762 - CIDADE NOVA</td>\n",
       "      <td>MANAUS</td>\n",
       "      <td>AMAZONAS</td>\n",
       "    </tr>\n",
       "  </tbody>\n",
       "</table>\n",
       "</div>"
      ],
      "text/plain": [
       "       cliente_nome      local_nome        cep  \\\n",
       "0  DB SUPERMERCADOS  DB CIDADE NOVA  69095-000   \n",
       "\n",
       "                              endereco  cidade    estado  \n",
       "0  AV. NOEL NUTELS, 1762 - CIDADE NOVA  MANAUS  AMAZONAS  "
      ]
     },
     "execution_count": 20,
     "metadata": {},
     "output_type": "execute_result"
    }
   ],
   "source": [
    "local_selecionado"
   ]
  },
  {
   "cell_type": "markdown",
   "metadata": {},
   "source": [
    "Busca da câmera a partir do local selecionado"
   ]
  },
  {
   "cell_type": "code",
   "execution_count": 21,
   "metadata": {},
   "outputs": [
    {
     "name": "stdout",
     "output_type": "stream",
     "text": [
      "Digite o nome/numero da camera: 1\n"
     ]
    }
   ],
   "source": [
    "busca_camera = input(\"Digite o nome/numero da camera: \")"
   ]
  },
  {
   "cell_type": "code",
   "execution_count": 22,
   "metadata": {},
   "outputs": [],
   "source": [
    "query = \"SELECT cl.nome AS cliente_nome, l.nome AS local_nome, cam.nome AS camera_nome \\\n",
    "        FROM cameras cam \\\n",
    "        RIGHT JOIN locais l ON cam.local_id = l.local_id \\\n",
    "        RIGHT JOIN clientes cl ON l.cliente_id = cl.cliente_id \\\n",
    "        WHERE l.cliente_id = {0} AND l.cep = '{1}' AND cam.nome LIKE '%%{2}%%'\".format(CLIENTE_ID, local_selecionado.cep[0], busca_camera.upper())\n",
    "    \n",
    "camera_selecionada = pd.read_sql(query, engine)"
   ]
  },
  {
   "cell_type": "markdown",
   "metadata": {},
   "source": [
    "#### Abstraímos que o usuário selecionou a câmera que foi resultado da busca"
   ]
  },
  {
   "cell_type": "code",
   "execution_count": 23,
   "metadata": {},
   "outputs": [
    {
     "data": {
      "text/html": [
       "<div>\n",
       "<style scoped>\n",
       "    .dataframe tbody tr th:only-of-type {\n",
       "        vertical-align: middle;\n",
       "    }\n",
       "\n",
       "    .dataframe tbody tr th {\n",
       "        vertical-align: top;\n",
       "    }\n",
       "\n",
       "    .dataframe thead th {\n",
       "        text-align: right;\n",
       "    }\n",
       "</style>\n",
       "<table border=\"1\" class=\"dataframe\">\n",
       "  <thead>\n",
       "    <tr style=\"text-align: right;\">\n",
       "      <th></th>\n",
       "      <th>cliente_nome</th>\n",
       "      <th>local_nome</th>\n",
       "      <th>camera_nome</th>\n",
       "    </tr>\n",
       "  </thead>\n",
       "  <tbody>\n",
       "    <tr>\n",
       "      <th>0</th>\n",
       "      <td>DB SUPERMERCADOS</td>\n",
       "      <td>DB CIDADE NOVA</td>\n",
       "      <td>CAMERA ENTRADA 1</td>\n",
       "    </tr>\n",
       "  </tbody>\n",
       "</table>\n",
       "</div>"
      ],
      "text/plain": [
       "       cliente_nome      local_nome       camera_nome\n",
       "0  DB SUPERMERCADOS  DB CIDADE NOVA  CAMERA ENTRADA 1"
      ]
     },
     "execution_count": 23,
     "metadata": {},
     "output_type": "execute_result"
    }
   ],
   "source": [
    "camera_selecionada"
   ]
  },
  {
   "cell_type": "markdown",
   "metadata": {},
   "source": [
    "### Contagem de pessoas por câmera\n",
    "Considera-se que cada camera cadastrada representa uma entrada diferente para o establecimento.\n",
    "Neste exemplo, veremos os dados de contagem da camera selecionada do local escolhido pelo nosso cliente cadastrado."
   ]
  },
  {
   "cell_type": "code",
   "execution_count": 15,
   "metadata": {},
   "outputs": [
    {
     "name": "stdout",
     "output_type": "stream",
     "text": [
      "2018-10-24 16:06:29,539 INFO sqlalchemy.engine.base.Engine select relname from pg_class c join pg_namespace n on n.oid=c.relnamespace where pg_catalog.pg_table_is_visible(c.oid) and relname=%(name)s\n",
      "2018-10-24 16:06:29,540 INFO sqlalchemy.engine.base.Engine {'name': \"SELECT cont.timestamp, cont.qtd_pessoas_in         FROM contagem cont         RIGHT JOIN cameras cam ON cont.camera_id = cam.camera_id        RIGHT J ... (79 characters truncated) ... liente_id = cl.cliente_id         WHERE cl.cliente_id = 1 AND l.cep = '69095-000' AND cam.nome = 'CAMERA ENTRADA 1'         ORDER BY cont.contagem_id\"}\n",
      "2018-10-24 16:06:29,542 INFO sqlalchemy.engine.base.Engine SELECT cont.timestamp, cont.qtd_pessoas_in         FROM contagem cont         RIGHT JOIN cameras cam ON cont.camera_id = cam.camera_id        RIGHT JOIN locais l ON cam.local_id = l.local_id         RIGHT JOIN clientes cl ON l.cliente_id = cl.cliente_id         WHERE cl.cliente_id = 1 AND l.cep = '69095-000' AND cam.nome = 'CAMERA ENTRADA 1'         ORDER BY cont.contagem_id\n",
      "2018-10-24 16:06:29,543 INFO sqlalchemy.engine.base.Engine {}\n"
     ]
    }
   ],
   "source": [
    "query = \"SELECT cont.timestamp, cont.qtd_pessoas_in \\\n",
    "        FROM contagem cont \\\n",
    "        RIGHT JOIN cameras cam ON cont.camera_id = cam.camera_id\\\n",
    "        RIGHT JOIN locais l ON cam.local_id = l.local_id \\\n",
    "        RIGHT JOIN clientes cl ON l.cliente_id = cl.cliente_id \\\n",
    "        WHERE cl.cliente_id = {0} AND l.cep = '{1}' AND cam.nome = '{2}' \\\n",
    "        ORDER BY cont.contagem_id\".format(CLIENTE_ID, local_selecionado.cep[0], camera_selecionada.camera_nome[0])\n",
    "\n",
    "contagem = pd.read_sql(query, engine)"
   ]
  },
  {
   "cell_type": "code",
   "execution_count": 27,
   "metadata": {},
   "outputs": [
    {
     "data": {
      "text/html": [
       "<div>\n",
       "<style scoped>\n",
       "    .dataframe tbody tr th:only-of-type {\n",
       "        vertical-align: middle;\n",
       "    }\n",
       "\n",
       "    .dataframe tbody tr th {\n",
       "        vertical-align: top;\n",
       "    }\n",
       "\n",
       "    .dataframe thead th {\n",
       "        text-align: right;\n",
       "    }\n",
       "</style>\n",
       "<table border=\"1\" class=\"dataframe\">\n",
       "  <thead>\n",
       "    <tr style=\"text-align: right;\">\n",
       "      <th></th>\n",
       "      <th>timestamp</th>\n",
       "      <th>qtd_pessoas_in</th>\n",
       "    </tr>\n",
       "  </thead>\n",
       "  <tbody>\n",
       "    <tr>\n",
       "      <th>0</th>\n",
       "      <td>2018-10-24 15:49:24.031656</td>\n",
       "      <td>0</td>\n",
       "    </tr>\n",
       "    <tr>\n",
       "      <th>1</th>\n",
       "      <td>2018-10-24 15:49:27.011704</td>\n",
       "      <td>0</td>\n",
       "    </tr>\n",
       "    <tr>\n",
       "      <th>2</th>\n",
       "      <td>2018-10-24 15:49:30.017785</td>\n",
       "      <td>0</td>\n",
       "    </tr>\n",
       "    <tr>\n",
       "      <th>3</th>\n",
       "      <td>2018-10-24 15:49:33.024115</td>\n",
       "      <td>2</td>\n",
       "    </tr>\n",
       "    <tr>\n",
       "      <th>4</th>\n",
       "      <td>2018-10-24 15:49:36.034400</td>\n",
       "      <td>2</td>\n",
       "    </tr>\n",
       "  </tbody>\n",
       "</table>\n",
       "</div>"
      ],
      "text/plain": [
       "                   timestamp  qtd_pessoas_in\n",
       "0 2018-10-24 15:49:24.031656               0\n",
       "1 2018-10-24 15:49:27.011704               0\n",
       "2 2018-10-24 15:49:30.017785               0\n",
       "3 2018-10-24 15:49:33.024115               2\n",
       "4 2018-10-24 15:49:36.034400               2"
      ]
     },
     "execution_count": 27,
     "metadata": {},
     "output_type": "execute_result"
    }
   ],
   "source": [
    "contagem.head()"
   ]
  },
  {
   "cell_type": "markdown",
   "metadata": {},
   "source": [
    "#### Coletando dados de contagem de hoje"
   ]
  },
  {
   "cell_type": "code",
   "execution_count": 29,
   "metadata": {},
   "outputs": [],
   "source": [
    "hoje = datetime.today()\n",
    "dias_passados = hoje - timedelta(days=1)\n",
    "contagem = contagem.query(\"timestamp < '{0}' and timestamp > '{1}'\".format(hoje, dias_passados))"
   ]
  },
  {
   "cell_type": "code",
   "execution_count": 30,
   "metadata": {},
   "outputs": [
    {
     "data": {
      "text/html": [
       "<div>\n",
       "<style scoped>\n",
       "    .dataframe tbody tr th:only-of-type {\n",
       "        vertical-align: middle;\n",
       "    }\n",
       "\n",
       "    .dataframe tbody tr th {\n",
       "        vertical-align: top;\n",
       "    }\n",
       "\n",
       "    .dataframe thead th {\n",
       "        text-align: right;\n",
       "    }\n",
       "</style>\n",
       "<table border=\"1\" class=\"dataframe\">\n",
       "  <thead>\n",
       "    <tr style=\"text-align: right;\">\n",
       "      <th></th>\n",
       "      <th>timestamp</th>\n",
       "      <th>qtd_pessoas_in</th>\n",
       "    </tr>\n",
       "  </thead>\n",
       "  <tbody>\n",
       "    <tr>\n",
       "      <th>0</th>\n",
       "      <td>2018-10-24 15:49:24.031656</td>\n",
       "      <td>0</td>\n",
       "    </tr>\n",
       "    <tr>\n",
       "      <th>1</th>\n",
       "      <td>2018-10-24 15:49:27.011704</td>\n",
       "      <td>0</td>\n",
       "    </tr>\n",
       "    <tr>\n",
       "      <th>2</th>\n",
       "      <td>2018-10-24 15:49:30.017785</td>\n",
       "      <td>0</td>\n",
       "    </tr>\n",
       "    <tr>\n",
       "      <th>3</th>\n",
       "      <td>2018-10-24 15:49:33.024115</td>\n",
       "      <td>2</td>\n",
       "    </tr>\n",
       "    <tr>\n",
       "      <th>4</th>\n",
       "      <td>2018-10-24 15:49:36.034400</td>\n",
       "      <td>2</td>\n",
       "    </tr>\n",
       "  </tbody>\n",
       "</table>\n",
       "</div>"
      ],
      "text/plain": [
       "                   timestamp  qtd_pessoas_in\n",
       "0 2018-10-24 15:49:24.031656               0\n",
       "1 2018-10-24 15:49:27.011704               0\n",
       "2 2018-10-24 15:49:30.017785               0\n",
       "3 2018-10-24 15:49:33.024115               2\n",
       "4 2018-10-24 15:49:36.034400               2"
      ]
     },
     "execution_count": 18,
     "metadata": {},
     "output_type": "execute_result"
    }
   ],
   "source": [
    "contagem.head()"
   ]
  },
  {
   "cell_type": "markdown",
   "metadata": {},
   "source": [
    "#### Resumo Estatístico"
   ]
  },
  {
   "cell_type": "code",
   "execution_count": 19,
   "metadata": {},
   "outputs": [
    {
     "data": {
      "text/html": [
       "<div>\n",
       "<style scoped>\n",
       "    .dataframe tbody tr th:only-of-type {\n",
       "        vertical-align: middle;\n",
       "    }\n",
       "\n",
       "    .dataframe tbody tr th {\n",
       "        vertical-align: top;\n",
       "    }\n",
       "\n",
       "    .dataframe thead th {\n",
       "        text-align: right;\n",
       "    }\n",
       "</style>\n",
       "<table border=\"1\" class=\"dataframe\">\n",
       "  <thead>\n",
       "    <tr style=\"text-align: right;\">\n",
       "      <th></th>\n",
       "      <th>qtd_pessoas_in</th>\n",
       "    </tr>\n",
       "  </thead>\n",
       "  <tbody>\n",
       "    <tr>\n",
       "      <th>count</th>\n",
       "      <td>35.000000</td>\n",
       "    </tr>\n",
       "    <tr>\n",
       "      <th>mean</th>\n",
       "      <td>0.857143</td>\n",
       "    </tr>\n",
       "    <tr>\n",
       "      <th>std</th>\n",
       "      <td>1.088519</td>\n",
       "    </tr>\n",
       "    <tr>\n",
       "      <th>min</th>\n",
       "      <td>0.000000</td>\n",
       "    </tr>\n",
       "    <tr>\n",
       "      <th>25%</th>\n",
       "      <td>0.000000</td>\n",
       "    </tr>\n",
       "    <tr>\n",
       "      <th>50%</th>\n",
       "      <td>1.000000</td>\n",
       "    </tr>\n",
       "    <tr>\n",
       "      <th>75%</th>\n",
       "      <td>1.000000</td>\n",
       "    </tr>\n",
       "    <tr>\n",
       "      <th>max</th>\n",
       "      <td>4.000000</td>\n",
       "    </tr>\n",
       "  </tbody>\n",
       "</table>\n",
       "</div>"
      ],
      "text/plain": [
       "       qtd_pessoas_in\n",
       "count       35.000000\n",
       "mean         0.857143\n",
       "std          1.088519\n",
       "min          0.000000\n",
       "25%          0.000000\n",
       "50%          1.000000\n",
       "75%          1.000000\n",
       "max          4.000000"
      ]
     },
     "execution_count": 19,
     "metadata": {},
     "output_type": "execute_result"
    }
   ],
   "source": [
    "contagem.describe()"
   ]
  },
  {
   "cell_type": "markdown",
   "metadata": {},
   "source": [
    "#### Gráfico quantidade de pessoas por horário"
   ]
  },
  {
   "cell_type": "code",
   "execution_count": 98,
   "metadata": {},
   "outputs": [],
   "source": [
    "tempo_inicio = contagem.timestamp.min()   \n",
    "tempo_fim = contagem.timestamp.max()\n",
    "intervalo_tempo = pd.date_range(start=tempo_inicio, end=tempo_fim, freq='3S')\n",
    "qtd_pessoas = contagem.qtd_pessoas_in.value_counts()"
   ]
  },
  {
   "cell_type": "code",
   "execution_count": 99,
   "metadata": {},
   "outputs": [
    {
     "data": {
      "image/png": "[encoded data removed]",
      "text/plain": [
       "<Figure size 432x288 with 1 Axes>"
      ]
     },
     "metadata": {
      "needs_background": "light"
     },
     "output_type": "display_data"
    }
   ],
   "source": [
    "plt.plot(intervalo_tempo, contagem.qtd_pessoas_in)\n",
    "plt.xlabel(\"Horário\")\n",
    "plt.ylabel(\"Qtd de pessoas\")\n",
    "plt.title(\"Pessoas por horário\")\n",
    "plt.gcf().autofmt_xdate()"
   ]
  },
  {
   "cell_type": "code",
   "execution_count": 100,
   "metadata": {},
   "outputs": [
    {
     "data": {
      "text/plain": [
       "Text(0.5, 1.0, 'Frequencia de pessoas hoje em todas as amostras de tempo')"
      ]
     },
     "execution_count": 100,
     "metadata": {},
     "output_type": "execute_result"
    },
    {
     "data": {
      "image/png": "[encoded data removed]",
      "text/plain": [
       "<Figure size 432x288 with 1 Axes>"
      ]
     },
     "metadata": {
      "needs_background": "light"
     },
     "output_type": "display_data"
    }
   ],
   "source": [
    "plt.bar(qtd_pessoas.index, qtd_pessoas)\n",
    "plt.title(\"Frequencia de pessoas hoje em todas as amostras de tempo\")"
   ]
  },
  {
   "cell_type": "code",
   "execution_count": 101,
   "metadata": {},
   "outputs": [
    {
     "data": {
      "text/plain": [
       "Text(0.5, 1.0, 'Frequencia (%) de pessoas hoje em todas as amostras de tempo')"
      ]
     },
     "execution_count": 101,
     "metadata": {},
     "output_type": "execute_result"
    },
    {
     "data": {
      "image/png": "[encoded data removed]",
      "text/plain": [
       "<Figure size 432x288 with 1 Axes>"
      ]
     },
     "metadata": {},
     "output_type": "display_data"
    }
   ],
   "source": [
    "plt.pie(qtd_pessoas, autopct = \"%.f%%\", shadow=True, startangle=90)\n",
    "plt.legend(qtd_pessoas.index, title=\"Qtd. de pessoas\",loc=\"center right\", bbox_to_anchor=(1, 0, 0.4, 1))\n",
    "plt.title(\"Frequencia (%) de pessoas hoje em todas as amostras de tempo\")"
   ]
  },
  {
   "cell_type": "code",
   "execution_count": null,
   "metadata": {},
   "outputs": [],
   "source": []
  },
  {
   "cell_type": "code",
   "execution_count": null,
   "metadata": {},
   "outputs": [],
   "source": []
  }
 ],
 "metadata": {
  "kernelspec": {
   "display_name": "Python [default]",
   "language": "python",
   "name": "python3"
  },
  "language_info": {
   "codemirror_mode": {
    "name": "ipython",
    "version": 3
   },
   "file_extension": ".py",
   "mimetype": "text/x-python",
   "name": "python",
   "nbconvert_exporter": "python",
   "pygments_lexer": "ipython3",
   "version": "3.5.5"
  }
 },
 "nbformat": 4,
 "nbformat_minor": 2
}
